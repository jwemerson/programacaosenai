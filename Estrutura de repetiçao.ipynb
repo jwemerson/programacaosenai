{
 "cells": [
  {
   "cell_type": "code",
   "execution_count": null,
   "id": "0cc6f499",
   "metadata": {},
   "outputs": [],
   "source": [
    "frutas = ['abacate','pera','abacaxi',\"Apos isso, finalize o For\"]\n",
    "\n",
    "for fruta in frutas:\n",
    "    print (fruta)\n",
    "    \n",
    "print ('fin do for -Este esta fota do laço de repetiçao ')"
   ]
  },
  {
   "cell_type": "markdown",
   "id": "5f51edb1",
   "metadata": {},
   "source": [
    "Exemplo 02 - for e condicinal "
   ]
  },
  {
   "cell_type": "code",
   "execution_count": null,
   "id": "52d158fb",
   "metadata": {},
   "outputs": [],
   "source": [
    "frutas = ['abacate','pera','abacaxi']\n",
    "\n",
    "for frutas in frutas:\n",
    "    if frutas.startswith ('a'):\n",
    "        print(frutas)\n",
    "\n",
    "print('fim di for')"
   ]
  },
  {
   "cell_type": "code",
   "execution_count": null,
   "id": "e10472be",
   "metadata": {},
   "outputs": [],
   "source": [
    "import sys\n",
    "\n",
    "vogais = ['a','e','i','o','u']\n",
    "\n",
    "letra_user = input('digite uma letra:')\n",
    "\n",
    "for letra in vogais:\n",
    "    if letra_user == letra:\n",
    "        print('É uma vogal')\n",
    "        sys.exit() # interrompe o codigo\n",
    "    \n",
    "        print('É uma consoante')\n",
    " "
   ]
  },
  {
   "cell_type": "markdown",
   "id": "8d16b70e",
   "metadata": {},
   "source": [
    "Exercício 06 - Faça um programa que imprima na tela os números de 1 a 20, um abaixo\n",
    "do outro. Depois modifique o programa para que ele mostre os números um ao lado do\n",
    "outro."
   ]
  },
  {
   "cell_type": "code",
   "execution_count": null,
   "id": "7af67de4",
   "metadata": {},
   "outputs": [],
   "source": [
    "numeros = ['1','2','3','4','5','6','7','8','9','10','11','12','13','14','15','16','17','18','19','20']\n",
    "\n",
    "for x in numeros:\n",
    "    print(x)"
   ]
  },
  {
   "cell_type": "code",
   "execution_count": null,
   "id": "d5faf0e2",
   "metadata": {
    "scrolled": true
   },
   "outputs": [],
   "source": [
    "lista = range(1,21)\n",
    "\n",
    "for x in lista:\n",
    "    print(x)"
   ]
  },
  {
   "cell_type": "code",
   "execution_count": null,
   "id": "d905402b",
   "metadata": {},
   "outputs": [],
   "source": [
    "lista = range(1,21)\n",
    "\n",
    "numeros = [] ### lista vazia\n",
    "\n",
    "for x in lista:\n",
    "    numeros.append(x)\n",
    "print(x)\n",
    "    \n",
    "print(f'Foram adicionados {x} elemntos a lista')\n",
    "print(numeros)\n",
    "\n",
    "    \n",
    "\n",
    "\n",
    "    \n",
    "\n"
   ]
  },
  {
   "cell_type": "markdown",
   "id": "fbd462e8",
   "metadata": {},
   "source": [
    "Exercício 09 - Faça um programa que imprima na tela apenas os números ímpares\n",
    "entre 1 e 50."
   ]
  },
  {
   "cell_type": "code",
   "execution_count": null,
   "id": "c5dd07d2",
   "metadata": {},
   "outputs": [],
   "source": [
    "numeros = range(1,51)\n",
    "\n",
    "impar = []\n",
    "\n",
    "for x in numeros:\n",
    "    if x%2 !=0:\n",
    "        impar.append(x)\n",
    "    \n",
    "\n",
    "print(impar)"
   ]
  },
  {
   "cell_type": "markdown",
   "id": "b14e75fc",
   "metadata": {},
   "source": [
    "Exercício 07 - Faça um programa que leia 5 números e informe o maior número."
   ]
  },
  {
   "cell_type": "code",
   "execution_count": null,
   "id": "97d0b039",
   "metadata": {},
   "outputs": [],
   "source": [
    "controle = range(0,5)\n",
    "numeros = []\n",
    "\n",
    "for x in controle:\n",
    "    num = int(input('digite um numero, please: '))\n",
    "    numeros.append(num)\n",
    "    \n",
    "maior = max(numeros)\n",
    "menor = min(numeros)\n",
    "\n",
    "print(f'o maior valor na lista e {maior} e o menor e {menor}.')\n",
    "\n",
    "\n",
    "\n"
   ]
  },
  {
   "cell_type": "markdown",
   "id": "cb132ae8",
   "metadata": {},
   "source": [
    "Exercício 12 - Desenvolva um gerador de tabuada, capaz de gerar a tabuada de\n",
    "qualquer número inteiro entre 1 a 10. O usuário deve informar de qual numero ele deseja\n",
    "ver a tabuada. A saída deve ser conforme o exemplo abaixo:"
   ]
  },
  {
   "cell_type": "code",
   "execution_count": 2,
   "id": "60cc4258",
   "metadata": {},
   "outputs": [
    {
     "name": "stdout",
     "output_type": "stream",
     "text": [
      "****tabuada****\n",
      "digite um valor entre 0 e 10 para gerar a tabuada. 5\n",
      "tabuada do numero 5\n",
      "5 x 1 = 5\n",
      "5 x 2 = 10\n",
      "5 x 3 = 15\n",
      "5 x 4 = 20\n",
      "5 x 5 = 25\n",
      "5 x 6 = 30\n",
      "5 x 7 = 35\n",
      "5 x 8 = 40\n",
      "5 x 9 = 45\n",
      "5 x 10 = 50\n"
     ]
    }
   ],
   "source": [
    "print('****tabuada****')\n",
    "\n",
    "num = int(input('digite um valor entre 0 e 10 para gerar a tabuada. '))\n",
    "\n",
    "multiplicadores = range(1,11)\n",
    "print(f'tabuada do numero {num}')\n",
    "\n",
    "for x in multiplicadores:\n",
    "    resultado = num * x\n",
    "    print(f'{num} x {x} = {resultado}')"
   ]
  },
  {
   "cell_type": "code",
   "execution_count": null,
   "id": "d8ee7013",
   "metadata": {},
   "outputs": [],
   "source": []
  },
  {
   "cell_type": "code",
   "execution_count": null,
   "id": "5431f922",
   "metadata": {},
   "outputs": [],
   "source": []
  }
 ],
 "metadata": {
  "kernelspec": {
   "display_name": "Python 3 (ipykernel)",
   "language": "python",
   "name": "python3"
  },
  "language_info": {
   "codemirror_mode": {
    "name": "ipython",
    "version": 3
   },
   "file_extension": ".py",
   "mimetype": "text/x-python",
   "name": "python",
   "nbconvert_exporter": "python",
   "pygments_lexer": "ipython3",
   "version": "3.10.9"
  }
 },
 "nbformat": 4,
 "nbformat_minor": 5
}
