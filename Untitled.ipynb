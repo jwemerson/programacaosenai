{
 "cells": [
  {
   "cell_type": "markdown",
   "id": "d8a4bd82",
   "metadata": {},
   "source": [
    "Exercício 01 – Crie uma variável chamada \"idade\" e atribua um valor inteiro a ela.\n",
    "Verifique se a idade é maior ou igual a 18 e imprima \"Maior de idade\" ou \"Menor de\n",
    "idade\" de acordo com a condição."
   ]
  },
  {
   "cell_type": "code",
   "execution_count": 6,
   "id": "e2116dd3",
   "metadata": {},
   "outputs": [
    {
     "name": "stdout",
     "output_type": "stream",
     "text": [
      "informe sua idade:18\n",
      "maior idade\n"
     ]
    }
   ],
   "source": [
    "idade = input('informe sua idade:')\n",
    "idade = int(idade)\n",
    "\n",
    "if idade < 18: \n",
    "    print('Menor idade')\n",
    "else:\n",
    "    print(\"maior idade\")"
   ]
  },
  {
   "cell_type": "markdown",
   "id": "c5778792",
   "metadata": {},
   "source": [
    "Exercício 02 - Crie uma variável chamada \"número\" e atribua um valor inteiro a ela.\n",
    "Verifique se o número é positivo, negativo ou zero e imprima a mensagem\n",
    "correspondente."
   ]
  },
  {
   "cell_type": "code",
   "execution_count": null,
   "id": "78a6c0e3",
   "metadata": {},
   "outputs": [],
   "source": [
    "numero = input('digite um numero inteiro:')\n",
    "numero = int(num)\n",
    "\n",
    "if num >=0:\n",
    "    print('positivo')\n",
    "else:\n",
    "    print('negativo')"
   ]
  },
  {
   "cell_type": "code",
   "execution_count": 10,
   "id": "0662471d",
   "metadata": {},
   "outputs": [
    {
     "name": "stdout",
     "output_type": "stream",
     "text": [
      "digite um numero inteiro:22\n",
      "positivo\n"
     ]
    }
   ],
   "source": [
    "num = input('digite um numero inteiro:')\n",
    "num = int(num)\n",
    "\n",
    "if num > 0:\n",
    "    print('positivo')\n",
    "elif num < 0:\n",
    "    print('negativo')\n",
    "else:\n",
    "    print('nulo')"
   ]
  },
  {
   "cell_type": "markdown",
   "id": "97a63085",
   "metadata": {},
   "source": [
    "Exercício 03 - Crie duas variáveis, \"nota1\" e \"nota2\", e atribua valores numéricos a elas.\n",
    "Verifique se a média das notas é maior ou igual a 7 e imprima \"Aprovado\" ou\n",
    "\"Reprovado\" de acordo com a condição."
   ]
  },
  {
   "cell_type": "code",
   "execution_count": 13,
   "id": "b2e4a21c",
   "metadata": {},
   "outputs": [
    {
     "name": "stdout",
     "output_type": "stream",
     "text": [
      "digite a nota 1: 7\n",
      "digite a nora 2: 6\n",
      "(Voce esta reprovado! Sua media final foi 6.5,Chore\n"
     ]
    }
   ],
   "source": [
    "nota1 = input('digite a nota 1: ')\n",
    "nota2 = input('digite a nora 2: ')\n",
    "\n",
    "nota1 = int(nota1)\n",
    "nota2 = int(nota2)\n",
    "\n",
    "media = (nota1+nota2)/2\n",
    "\n",
    "if media >= 7 :\n",
    "    print (f' Voce foi aprovado! Sua media final foi {media},parabens.')\n",
    "else:\n",
    "    print (f'(Voce esta reprovado! Sua media final foi {media},Chore')"
   ]
  },
  {
   "cell_type": "markdown",
   "id": "2e8edec8",
   "metadata": {},
   "source": [
    "Exercício 04 - Crie uma variável chamada \"idade\" e atribua um valor inteiro a ela.\n",
    "Verifique se a idade está dentro do intervalo de 18 a 30 (inclusive) e imprima a\n",
    "mensagem \"Idade válida\" ou \"Idade inválida\" de acordo com a condição."
   ]
  },
  {
   "cell_type": "code",
   "execution_count": 15,
   "id": "54d07113",
   "metadata": {},
   "outputs": [
    {
     "name": "stdout",
     "output_type": "stream",
     "text": [
      "digite sua idade25\n",
      "idade valida\n"
     ]
    }
   ],
   "source": [
    "idade = int(input('digite sua idade'))\n",
    "\n",
    "if idade>= 18 and idade <=30:\n",
    "    print('idade valida')\n",
    "else:\n",
    "    print('idade invalida')"
   ]
  },
  {
   "cell_type": "markdown",
   "id": "01bc95c4",
   "metadata": {},
   "source": [
    "Exercício 05 - Crie uma variável chamada \"numero\" e atribua um valor inteiro a ela.\n",
    "Verifique se o número é par ou ímpar e imprima a mensagem correspondente."
   ]
  },
  {
   "cell_type": "code",
   "execution_count": 17,
   "id": "9082b113",
   "metadata": {},
   "outputs": [
    {
     "name": "stdout",
     "output_type": "stream",
     "text": [
      "esse numero e par ou impar20\n",
      "par\n"
     ]
    }
   ],
   "source": [
    "numero = int(input('esse numero e par ou impar'))\n",
    "\n",
    "if numero % 2 == 0:\n",
    "    print('par')\n",
    "else:\n",
    "    print('impar')"
   ]
  },
  {
   "cell_type": "markdown",
   "id": "89b9d734",
   "metadata": {},
   "source": [
    "Exercício 06 - Crie uma variável chamada \"horario\" e atribua um valor inteiro\n",
    "representando a hora do dia (em formato 24 horas). Verifique se o horário está dentro\n",
    "do período da manhã (das 6h às 12h), da tarde (das 12h às 18h) ou da noite (das 18h"
   ]
  },
  {
   "cell_type": "code",
   "execution_count": 32,
   "id": "d1f736d0",
   "metadata": {},
   "outputs": [
    {
     "ename": "SyntaxError",
     "evalue": "expected ':' (4287656330.py, line 11)",
     "output_type": "error",
     "traceback": [
      "\u001b[1;36m  Cell \u001b[1;32mIn[32], line 11\u001b[1;36m\u001b[0m\n\u001b[1;33m    elif horario >= 00 and horario >= 24\u001b[0m\n\u001b[1;37m                                        ^\u001b[0m\n\u001b[1;31mSyntaxError\u001b[0m\u001b[1;31m:\u001b[0m expected ':'\n"
     ]
    }
   ],
   "source": [
    "horario = int(input('digite um horario'))\n",
    "\n",
    "if horario >= 6 and horario < 12:\n",
    "    print ('manha')\n",
    "    \n",
    "elif horario >= 12 and horario < 18:\n",
    "    print ('tarde')\n",
    "    \n",
    "elif horario >=  18 and horario <= 24:\n",
    "    print ('noite')\n",
    "    \n",
    "else:\n",
    "    print(\"horario invalido\")"
   ]
  },
  {
   "cell_type": "markdown",
   "id": "d1d5471a",
   "metadata": {},
   "source": [
    "Exercício 07 - Crie uma variável chamada \"peso\" e atribua um valor numérico a ela.\n",
    "Verifique se o peso está dentro do intervalo de 50 a 100 (inclusive) e imprima a\n",
    "mensagem \"Peso válido\" ou \"Peso inválido\" de acordo com a condição."
   ]
  },
  {
   "cell_type": "markdown",
   "id": "0d461a11",
   "metadata": {},
   "source": [
    "Exercício 08 - Crie uma variável chamada \"numero\" e atribua um valor inteiro a ela.\n",
    "Verifique se o número é múltiplo de 3 e de 5 ao mesmo tempo e imprima a mensagem\n",
    "correspondente."
   ]
  },
  {
   "cell_type": "code",
   "execution_count": 33,
   "id": "5bc5040c",
   "metadata": {},
   "outputs": [
    {
     "name": "stdout",
     "output_type": "stream",
     "text": [
      "digite um numero inteiro45\n",
      "O numero 45 e multiplo de 3 e 5 ao mesmo tempo.\n"
     ]
    }
   ],
   "source": [
    "numero = int(input('digite um numero inteiro'))\n",
    "\n",
    "if ( numero % 3 == 0) and (numero % 5 == 0):\n",
    "    print (f'O numero {numero} e multiplo de 3 e 5 ao mesmo tempo.')\n",
    "else:\n",
    "    print(f' O numero{numero},nao e multiplo de 3 e 5.')\n",
    "    \n",
    "           \n"
   ]
  },
  {
   "cell_type": "markdown",
   "id": "3df5884d",
   "metadata": {},
   "source": [
    "Exercício 09 - Crie uma variável chamada \"ano\" e atribua um valor inteiro\n",
    "representando um ano. Verifique se o ano é bissexto (divisível por 4, mas não por 100,\n",
    "exceto se for divisível por 400) e imprima a mensagem correspondente."
   ]
  },
  {
   "cell_type": "code",
   "execution_count": 40,
   "id": "e5586d68",
   "metadata": {},
   "outputs": [
    {
     "name": "stdout",
     "output_type": "stream",
     "text": [
      "digite um ano2020\n",
      "O ano 2020 e bissexto!\n"
     ]
    }
   ],
   "source": [
    "ano = int(input('digite um ano'))\n",
    "\n",
    "if (ano%4 == 0 and ano%100 !=0) or ( ano%400 ==0):\n",
    "    \n",
    "    print(f'O ano {ano} e bissexto!')\n",
    "else:\n",
    "\n",
    "    \n",
    "    print(f'O ano {ano}, nao e bissexto.')"
   ]
  },
  {
   "cell_type": "markdown",
   "id": "ccf934fb",
   "metadata": {},
   "source": [
    "Exercício 10 - Crie uma variável chamada \"salario\" e atribua um valor numérico a ela.\n",
    "Verifique se o salário é maior do que 1000 e menor do que 2000 ao mesmo tempo e\n",
    "imprima a mensagem correspondente."
   ]
  },
  {
   "cell_type": "code",
   "execution_count": 41,
   "id": "ffbf7725",
   "metadata": {},
   "outputs": [
    {
     "name": "stdout",
     "output_type": "stream",
     "text": [
      "informe um salario.1200\n",
      "salario dentro da faixa especificada.\n"
     ]
    }
   ],
   "source": [
    "salario = float(input('informe um salario.'))\n",
    "\n",
    "if salario > 1000 and salario < 2000:\n",
    "    print('salario dentro da faixa especificada.')\n",
    "\n",
    "else:\n",
    "    print('salario fora da fixa.')"
   ]
  },
  {
   "cell_type": "markdown",
   "id": "781bb390",
   "metadata": {},
   "source": [
    "Exercício 11 - Faça um Programa que peça dois números e imprima o maior deles."
   ]
  },
  {
   "cell_type": "code",
   "execution_count": 49,
   "id": "de874f7e",
   "metadata": {},
   "outputs": [
    {
     "name": "stdout",
     "output_type": "stream",
     "text": [
      "digite o primeiro numero:2\n",
      "digite o segundo numero:1\n",
      "numero1.\n"
     ]
    }
   ],
   "source": [
    "numero1 = int(input('digite o primeiro numero:'))\n",
    "numero2 = int(input('digite o segundo numero:'))\n",
    "\n",
    "if numero1 > numero2:\n",
    "    print ('numero1.')\n",
    "    \n",
    "else:\n",
    "    print ('numero2.')\n",
    "    "
   ]
  },
  {
   "cell_type": "markdown",
   "id": "23391552",
   "metadata": {},
   "source": [
    "Exercício 12 - Faça um Programa que peça um valor e mostre na tela se o valor é\n",
    "positivo ou negativo."
   ]
  },
  {
   "cell_type": "code",
   "execution_count": null,
   "id": "b43bfe84",
   "metadata": {},
   "outputs": [],
   "source": [
    "valor = int(input('digite o valor.'))\n"
   ]
  }
 ],
 "metadata": {
  "kernelspec": {
   "display_name": "Python 3 (ipykernel)",
   "language": "python",
   "name": "python3"
  },
  "language_info": {
   "codemirror_mode": {
    "name": "ipython",
    "version": 3
   },
   "file_extension": ".py",
   "mimetype": "text/x-python",
   "name": "python",
   "nbconvert_exporter": "python",
   "pygments_lexer": "ipython3",
   "version": "3.10.9"
  }
 },
 "nbformat": 4,
 "nbformat_minor": 5
}
